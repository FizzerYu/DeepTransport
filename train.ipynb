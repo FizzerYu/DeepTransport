{
 "cells": [
  {
   "cell_type": "code",
   "execution_count": 1,
   "id": "3e70ddae",
   "metadata": {},
   "outputs": [],
   "source": [
    "import pandas as pd\n",
    "import numpy as np\n",
    "import time\n",
    "import collections\n",
    "from tqdm.notebook import tqdm\n",
    "import copy\n",
    "import math\n",
    "import matplotlib.pyplot as plt\n",
    "import seaborn as sns\n",
    "\n",
    "\n",
    "import os\n",
    "os.environ[\"CUDA_DEVICE_ORDER\"] = 'PCI_BUS_ID'\n",
    "os.environ[\"CUDA_VISIBLE_DEVICES\"] = \"1\""
   ]
  },
  {
   "cell_type": "code",
   "execution_count": 2,
   "id": "03792992",
   "metadata": {},
   "outputs": [
    {
     "name": "stdout",
     "output_type": "stream",
     "text": [
      "args.py        dataset\t    README.md\ttrain.ipynb  utils.py\r\n",
      "dataloader.py  __pycache__  test.ipynb\ttrain.py\r\n"
     ]
    }
   ],
   "source": [
    "!ls $BASE_DIR"
   ]
  },
  {
   "cell_type": "code",
   "execution_count": 3,
   "id": "a4592d30",
   "metadata": {},
   "outputs": [],
   "source": [
    "BASE_DIR = './dataset/MapBJ-master/'\n",
    "radius_Num = 3\n",
    "p_Num = 5\n",
    "EPOCHS = 20\n",
    "BATCH_SIZE = 4096"
   ]
  },
  {
   "cell_type": "markdown",
   "id": "eae91b80",
   "metadata": {},
   "source": [
    "# 构建数据集\n",
    "## 获取 Upstream flow and downstream flow neighbor "
   ]
  },
  {
   "cell_type": "code",
   "execution_count": 4,
   "id": "f223d5cd",
   "metadata": {},
   "outputs": [
    {
     "data": {
      "text/html": [
       "<div>\n",
       "<style scoped>\n",
       "    .dataframe tbody tr th:only-of-type {\n",
       "        vertical-align: middle;\n",
       "    }\n",
       "\n",
       "    .dataframe tbody tr th {\n",
       "        vertical-align: top;\n",
       "    }\n",
       "\n",
       "    .dataframe thead th {\n",
       "        text-align: right;\n",
       "    }\n",
       "</style>\n",
       "<table border=\"1\" class=\"dataframe\">\n",
       "  <thead>\n",
       "    <tr style=\"text-align: right;\">\n",
       "      <th></th>\n",
       "      <th>source</th>\n",
       "      <th>destination</th>\n",
       "    </tr>\n",
       "  </thead>\n",
       "  <tbody>\n",
       "    <tr>\n",
       "      <th>395</th>\n",
       "      <td>25480</td>\n",
       "      <td>28283</td>\n",
       "    </tr>\n",
       "    <tr>\n",
       "      <th>540</th>\n",
       "      <td>28101</td>\n",
       "      <td>27886</td>\n",
       "    </tr>\n",
       "    <tr>\n",
       "      <th>625</th>\n",
       "      <td>26853</td>\n",
       "      <td>27869</td>\n",
       "    </tr>\n",
       "    <tr>\n",
       "      <th>536</th>\n",
       "      <td>28102</td>\n",
       "      <td>28101</td>\n",
       "    </tr>\n",
       "    <tr>\n",
       "      <th>41</th>\n",
       "      <td>21407</td>\n",
       "      <td>22575</td>\n",
       "    </tr>\n",
       "  </tbody>\n",
       "</table>\n",
       "</div>"
      ],
      "text/plain": [
       "     source  destination\n",
       "395   25480        28283\n",
       "540   28101        27886\n",
       "625   26853        27869\n",
       "536   28102        28101\n",
       "41    21407        22575"
      ]
     },
     "metadata": {},
     "output_type": "display_data"
    },
    {
     "data": {
      "application/vnd.jupyter.widget-view+json": {
       "model_id": "03917f58bb944f69b4f08eef0ce12cd8",
       "version_major": 2,
       "version_minor": 0
      },
      "text/plain": [
       "  0%|          | 0/731 [00:00<?, ?it/s]"
      ]
     },
     "metadata": {},
     "output_type": "display_data"
    },
    {
     "data": {
      "application/vnd.jupyter.widget-view+json": {
       "model_id": "62b37c3ffa0c4c048864e6332c86e283",
       "version_major": 2,
       "version_minor": 0
      },
      "text/plain": [
       "  0%|          | 0/731 [00:00<?, ?it/s]"
      ]
     },
     "metadata": {},
     "output_type": "display_data"
    },
    {
     "data": {
      "text/plain": [
       "(332, 327)"
      ]
     },
     "execution_count": 4,
     "metadata": {},
     "output_type": "execute_result"
    }
   ],
   "source": [
    "graphdata = pd.read_csv(BASE_DIR + \"graph.csv\")\n",
    "display(graphdata.sample(5))\n",
    "downStreamGraph = collections.defaultdict(list)\n",
    "for i in tqdm(range(len(graphdata))):\n",
    "    downStreamGraph[ graphdata.iloc[i, 0] ].append( graphdata.iloc[i, 1] )\n",
    "    \n",
    "upStreamGraph = collections.defaultdict(list)\n",
    "for i in tqdm(range(len(graphdata))):\n",
    "    upStreamGraph[ graphdata.iloc[i, 1] ].append( graphdata.iloc[i, 0] )\n",
    "    \n",
    "len(downStreamGraph), len(upStreamGraph)"
   ]
  },
  {
   "cell_type": "markdown",
   "id": "8f0d7d8f",
   "metadata": {},
   "source": [
    "构建upstread and downstream"
   ]
  },
  {
   "cell_type": "code",
   "execution_count": 5,
   "id": "9bab682c",
   "metadata": {
    "scrolled": true
   },
   "outputs": [],
   "source": [
    "\n",
    "# nums = [[[20915], [22693], [22692]],\n",
    "#  [[23004, 23080, 27308], [22693], [22692]],\n",
    "#  [[23744, 23005, 27694, 27778],\n",
    "#   [23019, 27733, 27311],\n",
    "#   [22777, 23006, 23217, 27309],\n",
    "#   [22693],\n",
    "#   [22692]]]\n",
    "# import copy\n",
    "# new_nums = copy.deepcopy( nums )\n",
    "\n",
    "# for layer in list(range( radius_Num - 1 ))[::-1]:\n",
    "#     flatL = [x for y in nums[layer] for x in y]\n",
    "#     newxtLen = [len(x) for x in new_nums[layer+1]]\n",
    "#     adjFlatl = [[] for y in nums[layer]]\n",
    "#     flag = 0\n",
    "#     for idx, v in enumerate( nums[layer] ):\n",
    "#         for jj in v:\n",
    "#             adjFlatl[idx].extend( [jj for k in range( newxtLen[flag] )] )\n",
    "#             flag += 1\n",
    "#     new_nums[layer] = adjFlatl\n",
    "\n",
    "# new_nums\n",
    "\n",
    "# # radius\n",
    "# AUXradius_downStreamGraph = {}\n",
    "# radius_downStreamGraph = {}\n",
    "# for nowp in tqdm(list(downStreamGraph.keys())):\n",
    "#     AUXradius_downStreamGraph[nowp] = []\n",
    "#     prevstation = set([nowp])\n",
    "#     # 第一次\n",
    "#     AUXradius_downStreamGraph[nowp].append( downStreamGraph[nowp] )\n",
    "#     prevstation.update( set(downStreamGraph[nowp]) )\n",
    "#     for layer in range( radius_Num - 1 ):\n",
    "#         nextNodes = []\n",
    "#         prevNode = AUXradius_downStreamGraph[nowp][-1]\n",
    "#         for idx, prevp in enumerate(prevNode):   # 上一层的所有节点\n",
    "#             tmp_pools = [x for x in downStreamGraph[prevp] if x not in prevstation]  # 不去重会有loop\n",
    "#             if tmp_pools == []: tmp_pools=[prevp]\n",
    "# #             tmp_pools = [x for x in downStreamGraph[prevp]] \n",
    "#             prevstation.update( set(tmp_pools) )\n",
    "#             nextNodes.extend( tmp_pools )\n",
    "#         AUXradius_downStreamGraph[nowp].append( nextNodes )\n",
    "# AUXradius_downStreamGraph[20916]"
   ]
  },
  {
   "cell_type": "code",
   "execution_count": 6,
   "id": "a2a5adc2",
   "metadata": {
    "scrolled": true
   },
   "outputs": [
    {
     "data": {
      "application/vnd.jupyter.widget-view+json": {
       "model_id": "eb9ce8cb1d75436b9f6cca8e3e5b7b14",
       "version_major": 2,
       "version_minor": 0
      },
      "text/plain": [
       "  0%|          | 0/332 [00:00<?, ?it/s]"
      ]
     },
     "metadata": {},
     "output_type": "display_data"
    },
    {
     "data": {
      "application/vnd.jupyter.widget-view+json": {
       "model_id": "04646c644ce24794ac752e558417a1b7",
       "version_major": 2,
       "version_minor": 0
      },
      "text/plain": [
       "  0%|          | 0/327 [00:00<?, ?it/s]"
      ]
     },
     "metadata": {},
     "output_type": "display_data"
    }
   ],
   "source": [
    "# radius\n",
    "def getRadiusStreamGraph(StreamGraph):\n",
    "    AUXradius_StreamGraph = {}\n",
    "    for nowp in tqdm(list(StreamGraph.keys())):\n",
    "        AUXradius_StreamGraph[nowp] = []\n",
    "        prevstation = set([nowp])\n",
    "        # 第一次\n",
    "        AUXradius_StreamGraph[nowp].append( [[x] for x in StreamGraph[nowp]] )\n",
    "        prevstation.update( set(StreamGraph[nowp]) )\n",
    "        for layer in range( radius_Num - 1 ):\n",
    "            nextNodes = []\n",
    "            prevNode = AUXradius_StreamGraph[nowp][-1]\n",
    "            flattenPrevNode = [y for x in prevNode for y in x]\n",
    "            for idx, prevp in enumerate(flattenPrevNode):   # 上一层的所有节点\n",
    "                tmp_pools = [x for x in StreamGraph[prevp] if x not in prevstation]  # 不去重会有loop\n",
    "                if tmp_pools == []: tmp_pools=[prevp]\n",
    "    #             tmp_pools = [x for x in StreamGraph[prevp]] \n",
    "                prevstation.update( set(tmp_pools) )\n",
    "                nextNodes.append( tmp_pools )\n",
    "\n",
    "            AUXradius_StreamGraph[nowp].append( nextNodes )\n",
    "\n",
    "    radius_StreamGraph = {}\n",
    "    for numsNam in AUXradius_StreamGraph.keys():\n",
    "        nums = AUXradius_StreamGraph[numsNam]\n",
    "        new_nums = copy.deepcopy( nums )\n",
    "        for layer in list(range( radius_Num - 1 ))[::-1]:\n",
    "            flatL = [x for y in nums[layer] for x in y]\n",
    "            newxtLen = [len(x) for x in new_nums[layer+1]]\n",
    "            adjFlatl = [[] for y in nums[layer]]\n",
    "            flag = 0\n",
    "            for idx, v in enumerate( nums[layer] ):\n",
    "                for jj in v:\n",
    "                    adjFlatl[idx].extend( [jj for k in range( newxtLen[flag] )] )\n",
    "                    flag += 1\n",
    "            new_nums[layer] = adjFlatl\n",
    "        radius_StreamGraph[ numsNam ] = new_nums\n",
    "\n",
    "    radius_StreamGraph = {k:np.array([[y for xx in k for y in xx] for k in nums]) for k,nums in radius_StreamGraph.items()}\n",
    "    return radius_StreamGraph\n",
    "\n",
    "radius_downStreamGraph = getRadiusStreamGraph(downStreamGraph)\n",
    "radius_upStreamGraph = getRadiusStreamGraph(upStreamGraph)"
   ]
  },
  {
   "cell_type": "code",
   "execution_count": 7,
   "id": "4a5966f2",
   "metadata": {
    "scrolled": true
   },
   "outputs": [
    {
     "data": {
      "application/vnd.jupyter.widget-view+json": {
       "model_id": "710a2771795a4f73a45354db0a053310",
       "version_major": 2,
       "version_minor": 0
      },
      "text/plain": [
       "  0%|          | 0/349 [00:00<?, ?it/s]"
      ]
     },
     "metadata": {},
     "output_type": "display_data"
    },
    {
     "data": {
      "application/vnd.jupyter.widget-view+json": {
       "model_id": "614a864382be40a29c74aac65bc9b0b3",
       "version_major": 2,
       "version_minor": 0
      },
      "text/plain": [
       "  0%|          | 0/349 [00:00<?, ?it/s]"
      ]
     },
     "metadata": {},
     "output_type": "display_data"
    },
    {
     "name": "stdout",
     "output_type": "stream",
     "text": [
      "[[27906 27906 27906 27906]\n",
      " [23498 23498 23498 23498]\n",
      " [22769 23361 25476 27762]] \n",
      "\n",
      "\n",
      "\n",
      " [[27906 27906 27906 27906]\n",
      " [23498 23498 23498 23498]\n",
      " [22769 23361 25476 27762]]\n"
     ]
    }
   ],
   "source": [
    "radius_downStreamGraph = getRadiusStreamGraph(downStreamGraph)\n",
    "radius_upStreamGraph = getRadiusStreamGraph(upStreamGraph)\n",
    "\n",
    "for k, item in radius_downStreamGraph.items():\n",
    "    if item.shape[1]==0:\n",
    "        radius_downStreamGraph[k] = radius_upStreamGraph[k]\n",
    "\n",
    "for k, item in radius_upStreamGraph.items():\n",
    "    if item.shape[1]==0:\n",
    "        radius_upStreamGraph[k] = radius_downStreamGraph[k]\n",
    "    \n",
    "print(radius_downStreamGraph[28435],\"\\n\\n\\n\\n\" ,radius_upStreamGraph[28435])"
   ]
  },
  {
   "cell_type": "code",
   "execution_count": 8,
   "id": "94086703",
   "metadata": {},
   "outputs": [
    {
     "name": "stderr",
     "output_type": "stream",
     "text": [
      "/home/lichangyv/miniconda3/envs/torch17/lib/python3.7/site-packages/seaborn/distributions.py:2557: FutureWarning: `distplot` is a deprecated function and will be removed in a future version. Please adapt your code to use either `displot` (a figure-level function with similar flexibility) or `histplot` (an axes-level function for histograms).\n",
      "  warnings.warn(msg, FutureWarning)\n",
      "/home/lichangyv/miniconda3/envs/torch17/lib/python3.7/site-packages/seaborn/distributions.py:2557: FutureWarning: `distplot` is a deprecated function and will be removed in a future version. Please adapt your code to use either `displot` (a figure-level function with similar flexibility) or `histplot` (an axes-level function for histograms).\n",
      "  warnings.warn(msg, FutureWarning)\n"
     ]
    },
    {
     "data": {
      "image/png": "[encoded data removed]",
      "text/plain": [
       "<Figure size 1200x300 with 1 Axes>"
      ]
     },
     "metadata": {},
     "output_type": "display_data"
    }
   ],
   "source": [
    "f, ax =plt.subplots(1,1,figsize=(12,3))\n",
    "sns.distplot([len(v[-1]) for k,v in radius_upStreamGraph.items()], ax=ax, label = \"Up\", bins=40)\n",
    "sns.distplot([len(v[-1]) for k,v in radius_downStreamGraph.items()], ax=ax, label = \"Down\", bins=40)\n",
    "plt.xlim(0, 40)\n",
    "plt.show()"
   ]
  },
  {
   "cell_type": "markdown",
   "id": "65e5a71b",
   "metadata": {},
   "source": [
    "## traffic_condition"
   ]
  },
  {
   "cell_type": "code",
   "execution_count": 9,
   "id": "26d0a6d3",
   "metadata": {},
   "outputs": [
    {
     "data": {
      "text/html": [
       "<div>\n",
       "<style scoped>\n",
       "    .dataframe tbody tr th:only-of-type {\n",
       "        vertical-align: middle;\n",
       "    }\n",
       "\n",
       "    .dataframe tbody tr th {\n",
       "        vertical-align: top;\n",
       "    }\n",
       "\n",
       "    .dataframe thead th {\n",
       "        text-align: right;\n",
       "    }\n",
       "</style>\n",
       "<table border=\"1\" class=\"dataframe\">\n",
       "  <thead>\n",
       "    <tr style=\"text-align: right;\">\n",
       "      <th></th>\n",
       "      <th>id</th>\n",
       "      <th>timestamp</th>\n",
       "      <th>condition</th>\n",
       "      <th>limit_level</th>\n",
       "    </tr>\n",
       "  </thead>\n",
       "  <tbody>\n",
       "    <tr>\n",
       "      <th>0</th>\n",
       "      <td>36691</td>\n",
       "      <td>2016-03-01 00:00:00</td>\n",
       "      <td>1</td>\n",
       "      <td>3</td>\n",
       "    </tr>\n",
       "    <tr>\n",
       "      <th>1</th>\n",
       "      <td>28545</td>\n",
       "      <td>2016-03-01 00:00:00</td>\n",
       "      <td>1</td>\n",
       "      <td>4</td>\n",
       "    </tr>\n",
       "    <tr>\n",
       "      <th>2</th>\n",
       "      <td>23693</td>\n",
       "      <td>2016-03-01 00:00:00</td>\n",
       "      <td>1</td>\n",
       "      <td>3</td>\n",
       "    </tr>\n",
       "    <tr>\n",
       "      <th>3</th>\n",
       "      <td>25226</td>\n",
       "      <td>2016-03-01 00:00:00</td>\n",
       "      <td>1</td>\n",
       "      <td>4</td>\n",
       "    </tr>\n",
       "    <tr>\n",
       "      <th>4</th>\n",
       "      <td>25476</td>\n",
       "      <td>2016-03-01 00:00:00</td>\n",
       "      <td>1</td>\n",
       "      <td>3</td>\n",
       "    </tr>\n",
       "    <tr>\n",
       "      <th>...</th>\n",
       "      <td>...</td>\n",
       "      <td>...</td>\n",
       "      <td>...</td>\n",
       "      <td>...</td>\n",
       "    </tr>\n",
       "    <tr>\n",
       "      <th>5711051</th>\n",
       "      <td>28484</td>\n",
       "      <td>2016-06-02 22:55:00</td>\n",
       "      <td>1</td>\n",
       "      <td>3</td>\n",
       "    </tr>\n",
       "    <tr>\n",
       "      <th>5711052</th>\n",
       "      <td>27053</td>\n",
       "      <td>2016-06-02 22:55:00</td>\n",
       "      <td>1</td>\n",
       "      <td>4</td>\n",
       "    </tr>\n",
       "    <tr>\n",
       "      <th>5711053</th>\n",
       "      <td>28501</td>\n",
       "      <td>2016-06-02 22:55:00</td>\n",
       "      <td>1</td>\n",
       "      <td>4</td>\n",
       "    </tr>\n",
       "    <tr>\n",
       "      <th>5711054</th>\n",
       "      <td>28099</td>\n",
       "      <td>2016-06-02 22:55:00</td>\n",
       "      <td>1</td>\n",
       "      <td>4</td>\n",
       "    </tr>\n",
       "    <tr>\n",
       "      <th>5711055</th>\n",
       "      <td>25389</td>\n",
       "      <td>2016-06-02 22:55:00</td>\n",
       "      <td>1</td>\n",
       "      <td>3</td>\n",
       "    </tr>\n",
       "  </tbody>\n",
       "</table>\n",
       "<p>5711056 rows × 4 columns</p>\n",
       "</div>"
      ],
      "text/plain": [
       "            id           timestamp  condition  limit_level\n",
       "0        36691 2016-03-01 00:00:00          1            3\n",
       "1        28545 2016-03-01 00:00:00          1            4\n",
       "2        23693 2016-03-01 00:00:00          1            3\n",
       "3        25226 2016-03-01 00:00:00          1            4\n",
       "4        25476 2016-03-01 00:00:00          1            3\n",
       "...        ...                 ...        ...          ...\n",
       "5711051  28484 2016-06-02 22:55:00          1            3\n",
       "5711052  27053 2016-06-02 22:55:00          1            4\n",
       "5711053  28501 2016-06-02 22:55:00          1            4\n",
       "5711054  28099 2016-06-02 22:55:00          1            4\n",
       "5711055  25389 2016-06-02 22:55:00          1            3\n",
       "\n",
       "[5711056 rows x 4 columns]"
      ]
     },
     "metadata": {},
     "output_type": "display_data"
    }
   ],
   "source": [
    "traffic_condition = pd.read_csv(BASE_DIR + \"traffic_condition.csv\")\n",
    "traffic_condition = traffic_condition.sort_values(by='timestamp').reset_index(drop=True)\n",
    "\n",
    "# traffic_condition['md_timestamp'] = traffic_condition['timestamp'].apply(lambda x: time.strftime(\"%Y-%m-%d\", time.localtime(x)))\n",
    "# traffic_condition['md_timestamp'] = pd.to_datetime(traffic_condition['md_timestamp'])\n",
    "# print(traffic_condition['md_timestamp'].drop_duplicates().tolist())\n",
    "\n",
    "traffic_condition['timestamp'] = traffic_condition['timestamp'].apply(lambda x: time.strftime(\"%Y-%m-%d %H:%M:%S\", time.localtime(x)) )\n",
    "traffic_condition['timestamp'] = pd.to_datetime(traffic_condition['timestamp'])\n",
    "                                                                         \n",
    "traffic_condition = traffic_condition.sort_values(by='timestamp').reset_index(drop=True)\n",
    "display(traffic_condition)\n",
    "\n",
    "# traffic_condition['timestamp'].value_counts()"
   ]
  },
  {
   "cell_type": "markdown",
   "id": "efcc218e",
   "metadata": {},
   "source": [
    "### 补齐数据"
   ]
  },
  {
   "cell_type": "code",
   "execution_count": 10,
   "id": "604bc200",
   "metadata": {},
   "outputs": [
    {
     "data": {
      "application/vnd.jupyter.widget-view+json": {
       "model_id": "e3ba7b9e240140f6853f88ad0367f09a",
       "version_major": 2,
       "version_minor": 0
      },
      "text/plain": [
       "  0%|          | 0/349 [00:00<?, ?it/s]"
      ]
     },
     "metadata": {},
     "output_type": "display_data"
    },
    {
     "data": {
      "text/html": [
       "<div>\n",
       "<style scoped>\n",
       "    .dataframe tbody tr th:only-of-type {\n",
       "        vertical-align: middle;\n",
       "    }\n",
       "\n",
       "    .dataframe tbody tr th {\n",
       "        vertical-align: top;\n",
       "    }\n",
       "\n",
       "    .dataframe thead th {\n",
       "        text-align: right;\n",
       "    }\n",
       "</style>\n",
       "<table border=\"1\" class=\"dataframe\">\n",
       "  <thead>\n",
       "    <tr style=\"text-align: right;\">\n",
       "      <th></th>\n",
       "      <th>id</th>\n",
       "      <th>timestamp</th>\n",
       "      <th>condition</th>\n",
       "      <th>limit_level</th>\n",
       "      <th>NT</th>\n",
       "      <th>timeId</th>\n",
       "    </tr>\n",
       "  </thead>\n",
       "  <tbody>\n",
       "    <tr>\n",
       "      <th>0</th>\n",
       "      <td>20915</td>\n",
       "      <td>2016-03-01 00:00:00</td>\n",
       "      <td>1.0</td>\n",
       "      <td>4.0</td>\n",
       "      <td>14567904</td>\n",
       "      <td>20915+14567904</td>\n",
       "    </tr>\n",
       "    <tr>\n",
       "      <th>1</th>\n",
       "      <td>20915</td>\n",
       "      <td>2016-03-01 00:05:00</td>\n",
       "      <td>1.0</td>\n",
       "      <td>4.0</td>\n",
       "      <td>14567907</td>\n",
       "      <td>20915+14567907</td>\n",
       "    </tr>\n",
       "    <tr>\n",
       "      <th>2</th>\n",
       "      <td>20915</td>\n",
       "      <td>2016-03-01 00:10:00</td>\n",
       "      <td>1.0</td>\n",
       "      <td>4.0</td>\n",
       "      <td>14567910</td>\n",
       "      <td>20915+14567910</td>\n",
       "    </tr>\n",
       "    <tr>\n",
       "      <th>3</th>\n",
       "      <td>20915</td>\n",
       "      <td>2016-03-01 00:15:00</td>\n",
       "      <td>1.0</td>\n",
       "      <td>4.0</td>\n",
       "      <td>14567913</td>\n",
       "      <td>20915+14567913</td>\n",
       "    </tr>\n",
       "    <tr>\n",
       "      <th>4</th>\n",
       "      <td>20915</td>\n",
       "      <td>2016-03-01 00:20:00</td>\n",
       "      <td>1.0</td>\n",
       "      <td>4.0</td>\n",
       "      <td>14567916</td>\n",
       "      <td>20915+14567916</td>\n",
       "    </tr>\n",
       "    <tr>\n",
       "      <th>...</th>\n",
       "      <td>...</td>\n",
       "      <td>...</td>\n",
       "      <td>...</td>\n",
       "      <td>...</td>\n",
       "      <td>...</td>\n",
       "      <td>...</td>\n",
       "    </tr>\n",
       "    <tr>\n",
       "      <th>5795838</th>\n",
       "      <td>36691</td>\n",
       "      <td>2016-06-02 22:35:00</td>\n",
       "      <td>1.0</td>\n",
       "      <td>3.0</td>\n",
       "      <td>14649069</td>\n",
       "      <td>36691+14649069</td>\n",
       "    </tr>\n",
       "    <tr>\n",
       "      <th>5795839</th>\n",
       "      <td>36691</td>\n",
       "      <td>2016-06-02 22:40:00</td>\n",
       "      <td>1.0</td>\n",
       "      <td>3.0</td>\n",
       "      <td>14649072</td>\n",
       "      <td>36691+14649072</td>\n",
       "    </tr>\n",
       "    <tr>\n",
       "      <th>5795840</th>\n",
       "      <td>36691</td>\n",
       "      <td>2016-06-02 22:45:00</td>\n",
       "      <td>1.0</td>\n",
       "      <td>3.0</td>\n",
       "      <td>14649075</td>\n",
       "      <td>36691+14649075</td>\n",
       "    </tr>\n",
       "    <tr>\n",
       "      <th>5795841</th>\n",
       "      <td>36691</td>\n",
       "      <td>2016-06-02 22:50:00</td>\n",
       "      <td>1.0</td>\n",
       "      <td>3.0</td>\n",
       "      <td>14649078</td>\n",
       "      <td>36691+14649078</td>\n",
       "    </tr>\n",
       "    <tr>\n",
       "      <th>5795842</th>\n",
       "      <td>36691</td>\n",
       "      <td>2016-06-02 22:55:00</td>\n",
       "      <td>1.0</td>\n",
       "      <td>3.0</td>\n",
       "      <td>14649081</td>\n",
       "      <td>36691+14649081</td>\n",
       "    </tr>\n",
       "  </tbody>\n",
       "</table>\n",
       "<p>5795843 rows × 6 columns</p>\n",
       "</div>"
      ],
      "text/plain": [
       "            id           timestamp  condition  limit_level        NT  \\\n",
       "0        20915 2016-03-01 00:00:00        1.0          4.0  14567904   \n",
       "1        20915 2016-03-01 00:05:00        1.0          4.0  14567907   \n",
       "2        20915 2016-03-01 00:10:00        1.0          4.0  14567910   \n",
       "3        20915 2016-03-01 00:15:00        1.0          4.0  14567913   \n",
       "4        20915 2016-03-01 00:20:00        1.0          4.0  14567916   \n",
       "...        ...                 ...        ...          ...       ...   \n",
       "5795838  36691 2016-06-02 22:35:00        1.0          3.0  14649069   \n",
       "5795839  36691 2016-06-02 22:40:00        1.0          3.0  14649072   \n",
       "5795840  36691 2016-06-02 22:45:00        1.0          3.0  14649075   \n",
       "5795841  36691 2016-06-02 22:50:00        1.0          3.0  14649078   \n",
       "5795842  36691 2016-06-02 22:55:00        1.0          3.0  14649081   \n",
       "\n",
       "                 timeId  \n",
       "0        20915+14567904  \n",
       "1        20915+14567907  \n",
       "2        20915+14567910  \n",
       "3        20915+14567913  \n",
       "4        20915+14567916  \n",
       "...                 ...  \n",
       "5795838  36691+14649069  \n",
       "5795839  36691+14649072  \n",
       "5795840  36691+14649075  \n",
       "5795841  36691+14649078  \n",
       "5795842  36691+14649081  \n",
       "\n",
       "[5795843 rows x 6 columns]"
      ]
     },
     "execution_count": 10,
     "metadata": {},
     "output_type": "execute_result"
    }
   ],
   "source": [
    "data = []\n",
    "tmpdata = pd.DataFrame(traffic_condition['timestamp'].drop_duplicates().reset_index(drop=True))\n",
    "for i in tqdm(traffic_condition['id'].drop_duplicates().tolist()):\n",
    "#     print(i)\n",
    "    tmpdata['id'] = i\n",
    "    data.append( tmpdata.copy(deep=True) )\n",
    "data = pd.concat(data, axis=0)[['id', 'timestamp']]\n",
    "traffic_condition = traffic_condition.merge(data, on = ['id','timestamp'], how='right', sort=True)\n",
    "traffic_condition = traffic_condition.sort_values(by=['id','timestamp']).reset_index(drop=True)\n",
    "\n",
    "traffic_condition['condition'] = traffic_condition['condition'].fillna(method='pad')\n",
    "traffic_condition['limit_level'] = traffic_condition['limit_level'].fillna(method='pad')\n",
    "\n",
    "traffic_condition['NT'] = (traffic_condition['timestamp'].astype(int)/ 100000000000).astype(int)\n",
    "traffic_condition['timeId'] = traffic_condition['id'].astype(str) + \"+\" + traffic_condition['NT'].astype(str)\n",
    "traffic_condition"
   ]
  },
  {
   "cell_type": "code",
   "execution_count": 11,
   "id": "3ba0e35f",
   "metadata": {},
   "outputs": [
    {
     "data": {
      "text/plain": [
       "((4412756, 6), (1383087, 6))"
      ]
     },
     "execution_count": 11,
     "metadata": {},
     "output_type": "execute_result"
    }
   ],
   "source": [
    "train = traffic_condition[traffic_condition['timestamp']<'2016-05-01'].reset_index(drop=True)\n",
    "test = traffic_condition[traffic_condition['timestamp']>='2016-05-01'].reset_index(drop=True)\n",
    "train.shape, test.shape"
   ]
  },
  {
   "cell_type": "code",
   "execution_count": 12,
   "id": "183831e3",
   "metadata": {
    "scrolled": true
   },
   "outputs": [
    {
     "data": {
      "application/vnd.jupyter.widget-view+json": {
       "model_id": "4e3712bc220c418bac04ce91b8ad56c2",
       "version_major": 2,
       "version_minor": 0
      },
      "text/plain": [
       "  0%|          | 0/349 [00:00<?, ?it/s]"
      ]
     },
     "metadata": {},
     "output_type": "display_data"
    },
    {
     "data": {
      "application/vnd.jupyter.widget-view+json": {
       "model_id": "8841429eaa194677b6fc6efbc8c738b1",
       "version_major": 2,
       "version_minor": 0
      },
      "text/plain": [
       "  0%|          | 0/349 [00:00<?, ?it/s]"
      ]
     },
     "metadata": {},
     "output_type": "display_data"
    }
   ],
   "source": [
    "def prepareData(df, pnum, ):\n",
    "    ans = {}         # key: uid+time\n",
    "    uids = df.id.drop_duplicates().tolist()\n",
    "    for uid in tqdm(uids):\n",
    "        tmpudf = df.query(f\"id=={uid}\").reset_index(drop=True)\n",
    "        tivF = [tmpudf.loc[0, 'limit_level']]\n",
    "        for idx in range(len(tmpudf)-1):\n",
    "            if idx == 0:\n",
    "                tvO = [tmpudf.loc[0, 'condition']] * pnum\n",
    "            elif pnum>idx:     # 最开始几个 需要补齐\n",
    "                prev = tmpudf.loc[:pnum, 'condition'].tolist()\n",
    "                repeat = pnum // (idx+1) + 1\n",
    "                tvO = ( tmpudf.loc[:idx, 'condition'].tolist() * repeat )[:pnum]\n",
    "            elif pnum<=idx:\n",
    "                tvO = tmpudf.loc[(idx-pnum+1):idx, 'condition'].tolist()\n",
    "            label = tmpudf.loc[idx+1, 'condition']\n",
    "            timeuid = tmpudf.loc[idx, 'timeId']\n",
    "            ans[ timeuid ] = [tvO + tivF, label]  # 这里合并了 self_tvO, self_tivF\n",
    "    return ans\n",
    "\n",
    "traindata = prepareData(train, p_Num)\n",
    "testdata = prepareData(test, p_Num)"
   ]
  },
  {
   "cell_type": "code",
   "execution_count": null,
   "id": "bd2ee4ef",
   "metadata": {},
   "outputs": [],
   "source": []
  },
  {
   "cell_type": "code",
   "execution_count": null,
   "id": "ffd06087",
   "metadata": {},
   "outputs": [],
   "source": []
  },
  {
   "cell_type": "markdown",
   "id": "81832828",
   "metadata": {},
   "source": [
    "## dataset 构建"
   ]
  },
  {
   "cell_type": "code",
   "execution_count": 18,
   "id": "5d2a3c2a",
   "metadata": {},
   "outputs": [
    {
     "data": {
      "application/vnd.jupyter.widget-view+json": {
       "model_id": "e5b7c4b9db3f4af899ca688b6b7fd717",
       "version_major": 2,
       "version_minor": 0
      },
      "text/plain": [
       "  0%|          | 0/441241 [00:00<?, ?it/s]"
      ]
     },
     "metadata": {},
     "output_type": "display_data"
    },
    {
     "data": {
      "text/plain": [
       "(torch.Size([10, 3, 40, 6]),\n",
       " torch.Size([10, 6]),\n",
       " torch.Size([10, 3, 40, 6]),\n",
       " torch.Size([10]))"
      ]
     },
     "execution_count": 18,
     "metadata": {},
     "output_type": "execute_result"
    }
   ],
   "source": [
    "from torch.utils.data.dataset import Dataset\n",
    "from torch.utils.data import DataLoader\n",
    "from torch import nn\n",
    "import torch\n",
    " \n",
    "class MyDataSet(Dataset):\n",
    "    def __init__(self, data, upgraph, downgraph, rnum, maxlen = 20):\n",
    "        self.data = data\n",
    "        self.uidTime = list( self.data.keys() )\n",
    "        self.upgraph = upgraph\n",
    "        self.downgraph = downgraph\n",
    "        self.maxlen = maxlen\n",
    "        self.rnum = rnum\n",
    "        \n",
    "    def __getitem__(self, index):\n",
    "        \n",
    "        # target location\n",
    "        timeuid = self.uidTime[index]\n",
    "        uid, time = timeuid.split(\"+\")\n",
    "        uid, time = int(uid), int(time)\n",
    "        \n",
    "        self_tvFeats, label = self.data[ timeuid ]\n",
    "        \n",
    "        ## upstream module\n",
    "        ### select\n",
    "        upSlot = self.upgraph[uid]\n",
    "        if upSlot.shape[1] >= self.maxlen:\n",
    "            upUids = upSlot[:, :self.maxlen]\n",
    "        else:\n",
    "            repeat = self.maxlen // upSlot.shape[1] + 1\n",
    "            upUids = np.repeat(upSlot, repeat, axis = 1)[:, :self.maxlen]\n",
    "        ### broadcast\n",
    "        upSlots = []\n",
    "        # for layer in range( self.rnum ):\n",
    "        for layer in range( self.rnum ):\n",
    "            upSlots.append( [self.data[f\"{uid}+{time}\"][0] for uid in upUids[layer]] )\n",
    "\n",
    "            \n",
    "        ## downstream module\n",
    "        downSlot = self.downgraph[uid]\n",
    "        if downSlot.shape[1] >= self.maxlen:\n",
    "            downUids = downSlot[:, :self.maxlen]\n",
    "        else:\n",
    "            repeat = self.maxlen // downSlot.shape[1] + 1\n",
    "            downUids = np.repeat(downSlot, repeat, axis = 1)[:, :self.maxlen]\n",
    "        ### broadcast\n",
    "        downSlots = []\n",
    "        # for layer in range( self.rnum ):\n",
    "        for layer in range( self.rnum ):\n",
    "            downSlots.append( [self.data[f\"{uid}+{time}\"][0] for uid in downUids[layer]] )\n",
    "        \n",
    "        return np.array(self_tvFeats), np.array(upSlots), np.array(downSlots), label\n",
    "        \n",
    "    def __len__(self):\n",
    "        return len( self.uidTime )\n",
    "    \n",
    "traindataset = MyDataSet(traindata, radius_upStreamGraph, radius_downStreamGraph, radius_Num, 40)\n",
    "# traindataset.__getitem__(5)\n",
    "trainDataloader = DataLoader(traindataset, batch_size=10, shuffle=True, num_workers=10)\n",
    "for idx, ( pred, up, down, label ) in tqdm(enumerate( trainDataloader ), total=len(trainDataloader)):\n",
    "#     pass\n",
    "    break\n",
    "up.shape, pred.shape, down.shape, label.shape"
   ]
  },
  {
   "cell_type": "code",
   "execution_count": 19,
   "id": "8ad8e490",
   "metadata": {},
   "outputs": [],
   "source": [
    "def default_conv(in_channels, out_channels, kernel_size, bias=True):\n",
    "    return nn.Conv2d(\n",
    "        in_channels, out_channels, kernel_size,\n",
    "        padding=(kernel_size//2), bias=bias)\n",
    "\n",
    "class LinearWithChannel(nn.Module):\n",
    "    \"\"\"\n",
    "    https://github.com/pytorch/pytorch/issues/36591\n",
    "    \"\"\"\n",
    "    def __init__(self, input_size, output_size, channel_size):\n",
    "        super(LinearWithChannel, self).__init__()\n",
    "        \n",
    "        #initialize weights\n",
    "        self.weight = torch.nn.Parameter(torch.zeros(channel_size, input_size, output_size))\n",
    "        self.bias = torch.nn.Parameter(torch.zeros(channel_size, 1, output_size))\n",
    "        \n",
    "        #change weights to kaiming\n",
    "        self.reset_parameters(self.weight, self.bias)\n",
    "        \n",
    "    def reset_parameters(self, weights, bias):\n",
    "        \n",
    "        torch.nn.init.kaiming_uniform_(weights, a=math.sqrt(3))\n",
    "        fan_in, _ = torch.nn.init._calculate_fan_in_and_fan_out(weights)\n",
    "        bound = 1 / math.sqrt(fan_in)\n",
    "        torch.nn.init.uniform_(bias, -bound, bound)\n",
    "    \n",
    "    def forward(self, x):\n",
    "        b, ch, r  = x.size()\n",
    "        x = x.view(ch, b, r)\n",
    "        x = torch.bmm(x, self.weight) + self.bias\n",
    "        return x.view(b, ch, -1)"
   ]
  },
  {
   "cell_type": "code",
   "execution_count": 20,
   "id": "edfe607f",
   "metadata": {
    "scrolled": false
   },
   "outputs": [
    {
     "name": "stdout",
     "output_type": "stream",
     "text": [
      "DeepTransport(\n",
      "  (fnn1): Sequential(\n",
      "    (0): Linear(in_features=6, out_features=32, bias=True)\n",
      "    (1): ReLU()\n",
      "    (2): Linear(in_features=32, out_features=32, bias=True)\n",
      "    (3): ReLU()\n",
      "  )\n",
      "  (conv): Sequential(\n",
      "    (0): Conv2d(1, 4, kernel_size=(3, 3), stride=(1, 1), padding=(1, 1))\n",
      "    (1): ReLU()\n",
      "  )\n",
      "  (upstream): streamModule(\n",
      "    (lstm): LSTM(960, 32, num_layers=3, batch_first=True, dropout=0.5)\n",
      "    (ffn): LinearWithChannel()\n",
      "  )\n",
      "  (downstream): streamModule(\n",
      "    (lstm): LSTM(960, 32, num_layers=3, batch_first=True, dropout=0.5)\n",
      "    (ffn): LinearWithChannel()\n",
      "  )\n",
      "  (outfnn): Sequential(\n",
      "    (0): Linear(in_features=160, out_features=64, bias=True)\n",
      "    (1): ReLU()\n",
      "    (2): Linear(in_features=64, out_features=1, bias=True)\n",
      "  )\n",
      "  (outfnnABLA): Sequential(\n",
      "    (0): Linear(in_features=32, out_features=32, bias=True)\n",
      "    (1): ReLU()\n",
      "    (2): Linear(in_features=32, out_features=1, bias=True)\n",
      "  )\n",
      ")\n"
     ]
    },
    {
     "data": {
      "text/plain": [
       "tensor([[-0.0245],\n",
       "        [-0.0009],\n",
       "        [-0.0402],\n",
       "        [-0.0402],\n",
       "        [-0.0662],\n",
       "        [-0.0402],\n",
       "        [-0.0402],\n",
       "        [-0.0857],\n",
       "        [-0.0662],\n",
       "        [-0.0486]], grad_fn=<AddmmBackward>)"
      ]
     },
     "execution_count": 20,
     "metadata": {},
     "output_type": "execute_result"
    }
   ],
   "source": [
    "class streamModule(nn.Module):\n",
    "    def __init__(self, input_size = 64, output_size = 64, channel_size = 3):\n",
    "        super(streamModule, self).__init__()  \n",
    "        self.lstm = nn.LSTM(input_size = 960,hidden_size=32,num_layers=3, \\\n",
    "                                  bias=True,batch_first=True,dropout=0.5,bidirectional=False)\n",
    "        self.ffn = LinearWithChannel(input_size, output_size, channel_size)\n",
    "    def forward(self, stream, x):\n",
    "        stream, _  = self.lstm( stream )          # # 这里直接用最后一层的输出就不需要max pooling了 -> bs, 3, 32\n",
    "        x = x.unsqueeze(1).repeat(1,3,1)\n",
    "        stream = torch.cat([stream, x], axis=2)   # bs * 3 * 64\n",
    "        stream = self.ffn( stream )                 # bs * 3 * 64\n",
    "        attw = torch.exp(stream) / torch.sum( torch.exp(stream) , axis = 2).unsqueeze(-1)\n",
    "        attw = torch.softmax(attw, dim = 1)\n",
    "        return torch.sum(stream * attw, axis=1)\n",
    "    \n",
    "\n",
    "\n",
    "class DeepTransport(nn.Module):\n",
    "    def __init__(self, convChannel=4, convks = 3, r=3, abla=False):\n",
    "        super(DeepTransport, self).__init__()  \n",
    "        self.fnn1 = nn.Sequential(nn.Linear(6, 32), nn.ReLU(), nn.Linear(32, 32), nn.ReLU())\n",
    "        self.conv = nn.Sequential(default_conv(1, convChannel, convks), nn.ReLU())  # bn\n",
    "        self.r = r\n",
    "        self.upstream = streamModule()\n",
    "        self.downstream = streamModule()\n",
    "\n",
    "        self.outfnn = nn.Sequential(nn.Linear(160, 64), nn.ReLU(), nn.Linear(64, 1))  # do not add normalization\n",
    "        \n",
    "        self.abla = abla\n",
    "        if self.abla:\n",
    "            self.outfnnABLA = nn.Sequential(nn.Linear(32, 32), nn.ReLU(), nn.Linear(32, 1))  # do not add normalization\n",
    "        \n",
    "    def forward(self, up, down, pred, abla=False):\n",
    "        bs, r, h, w = up.shape\n",
    "        pred = self.fnn1( pred )     #  [10, 32]                     \n",
    "        \n",
    "        if self.abla:\n",
    "            return self.outfnnABLA(pred)\n",
    "        else:  # 需要共享conv\n",
    "            \n",
    "            up = self.conv( up.view(-1, 1, h, w) )           # bs * r, 4, 40, 6\n",
    "            up = up.view(bs, r, -1)                         # bs, r, 960\n",
    "            lstmoutUp = self.upstream( up, pred )\n",
    "\n",
    "            down = self.conv( down.view(-1, 1, h, w) )           # bs * r, 4, 40, 6\n",
    "            down = up.view(bs, r, -1)                         # bs, r, 960\n",
    "            lstmoutDown = self.upstream( down, pred )\n",
    "\n",
    "    #         print( pred.shape, lstmoutUp.shape, lstmoutDown.shape )  # torch.Size([10, 32]) torch.Size([10, 64]) torch.Size([10, 64])\n",
    "            out = torch.cat([  pred, lstmoutUp, lstmoutDown  ], axis=-1)\n",
    "            out = self.outfnn(out)\n",
    "\n",
    "            return out\n",
    "        \n",
    "model = DeepTransport(abla=True)\n",
    "print(model)\n",
    "model(  up.float(), down.float(), pred.float(),  )"
   ]
  },
  {
   "cell_type": "code",
   "execution_count": 21,
   "id": "3eb7ead1",
   "metadata": {
    "scrolled": true
   },
   "outputs": [
    {
     "data": {
      "application/vnd.jupyter.widget-view+json": {
       "model_id": "754f7280ea4d446ba0619442d75ca5f0",
       "version_major": 2,
       "version_minor": 0
      },
      "text/plain": [
       "Train at Epoch 0 ==>:   0%|          | 0/1078 [00:00<?, ?it/s]"
      ]
     },
     "metadata": {},
     "output_type": "display_data"
    },
    {
     "name": "stdout",
     "output_type": "stream",
     "text": [
      "Epoch #1\tTrain Loss: 0.115\tValid Loss: 0.102\n",
      "\n",
      "\n"
     ]
    },
    {
     "data": {
      "application/vnd.jupyter.widget-view+json": {
       "model_id": "e69c6161fc624da3912a00cd160dc2b4",
       "version_major": 2,
       "version_minor": 0
      },
      "text/plain": [
       "Train at Epoch 1 ==>:   0%|          | 0/1078 [00:00<?, ?it/s]"
      ]
     },
     "metadata": {},
     "output_type": "display_data"
    },
    {
     "name": "stdout",
     "output_type": "stream",
     "text": [
      "Epoch #2\tTrain Loss: 0.095\tValid Loss: 0.101\n",
      "\n",
      "\n"
     ]
    },
    {
     "data": {
      "application/vnd.jupyter.widget-view+json": {
       "model_id": "39b703640276416fa8b39dda1855e911",
       "version_major": 2,
       "version_minor": 0
      },
      "text/plain": [
       "Train at Epoch 2 ==>:   0%|          | 0/1078 [00:00<?, ?it/s]"
      ]
     },
     "metadata": {},
     "output_type": "display_data"
    },
    {
     "name": "stdout",
     "output_type": "stream",
     "text": [
      "Epoch #3\tTrain Loss: 0.095\tValid Loss: 0.101\n",
      "\n",
      "\n"
     ]
    },
    {
     "data": {
      "application/vnd.jupyter.widget-view+json": {
       "model_id": "dde8d14dd97141f9b02f8e8281ebf371",
       "version_major": 2,
       "version_minor": 0
      },
      "text/plain": [
       "Train at Epoch 3 ==>:   0%|          | 0/1078 [00:00<?, ?it/s]"
      ]
     },
     "metadata": {},
     "output_type": "display_data"
    },
    {
     "name": "stdout",
     "output_type": "stream",
     "text": [
      "Epoch #4\tTrain Loss: 0.094\tValid Loss: 0.101\n",
      "\n",
      "\n"
     ]
    },
    {
     "data": {
      "application/vnd.jupyter.widget-view+json": {
       "model_id": "95697eb95d1f46ed80ad843685bdb1fa",
       "version_major": 2,
       "version_minor": 0
      },
      "text/plain": [
       "Train at Epoch 4 ==>:   0%|          | 0/1078 [00:00<?, ?it/s]"
      ]
     },
     "metadata": {},
     "output_type": "display_data"
    },
    {
     "name": "stdout",
     "output_type": "stream",
     "text": [
      "Epoch #5\tTrain Loss: 0.094\tValid Loss: 0.101\n",
      "\n",
      "\n"
     ]
    },
    {
     "data": {
      "application/vnd.jupyter.widget-view+json": {
       "model_id": "11647f35dd1348599811a5591e2433c6",
       "version_major": 2,
       "version_minor": 0
      },
      "text/plain": [
       "Train at Epoch 5 ==>:   0%|          | 0/1078 [00:00<?, ?it/s]"
      ]
     },
     "metadata": {},
     "output_type": "display_data"
    },
    {
     "name": "stdout",
     "output_type": "stream",
     "text": [
      "Epoch #6\tTrain Loss: 0.094\tValid Loss: 0.101\n",
      "\n",
      "\n"
     ]
    },
    {
     "data": {
      "application/vnd.jupyter.widget-view+json": {
       "model_id": "3661cf8c1e8741e19db0310a98cb0539",
       "version_major": 2,
       "version_minor": 0
      },
      "text/plain": [
       "Train at Epoch 6 ==>:   0%|          | 0/1078 [00:00<?, ?it/s]"
      ]
     },
     "metadata": {},
     "output_type": "display_data"
    },
    {
     "name": "stdout",
     "output_type": "stream",
     "text": [
      "Epoch #7\tTrain Loss: 0.094\tValid Loss: 0.101\n",
      "\n",
      "\n"
     ]
    },
    {
     "data": {
      "application/vnd.jupyter.widget-view+json": {
       "model_id": "22f550d0d7c04f41b1cf22f9f5548ec9",
       "version_major": 2,
       "version_minor": 0
      },
      "text/plain": [
       "Train at Epoch 7 ==>:   0%|          | 0/1078 [00:00<?, ?it/s]"
      ]
     },
     "metadata": {},
     "output_type": "display_data"
    },
    {
     "name": "stdout",
     "output_type": "stream",
     "text": [
      "Epoch #8\tTrain Loss: 0.094\tValid Loss: 0.101\n",
      "\n",
      "\n"
     ]
    },
    {
     "data": {
      "application/vnd.jupyter.widget-view+json": {
       "model_id": "4569457700ee43759007a9b254878e50",
       "version_major": 2,
       "version_minor": 0
      },
      "text/plain": [
       "Train at Epoch 8 ==>:   0%|          | 0/1078 [00:00<?, ?it/s]"
      ]
     },
     "metadata": {},
     "output_type": "display_data"
    },
    {
     "name": "stdout",
     "output_type": "stream",
     "text": [
      "Epoch #9\tTrain Loss: 0.094\tValid Loss: 0.101\n",
      "\n",
      "\n"
     ]
    },
    {
     "data": {
      "application/vnd.jupyter.widget-view+json": {
       "model_id": "98d4ca6015e84ea8a3e0386de89b6b5e",
       "version_major": 2,
       "version_minor": 0
      },
      "text/plain": [
       "Train at Epoch 9 ==>:   0%|          | 0/1078 [00:00<?, ?it/s]"
      ]
     },
     "metadata": {},
     "output_type": "display_data"
    },
    {
     "name": "stdout",
     "output_type": "stream",
     "text": [
      "Epoch #10\tTrain Loss: 0.094\tValid Loss: 0.101\n",
      "\n",
      "\n"
     ]
    },
    {
     "data": {
      "application/vnd.jupyter.widget-view+json": {
       "model_id": "8eecff527ade43e1b1ffc0416380d21a",
       "version_major": 2,
       "version_minor": 0
      },
      "text/plain": [
       "Train at Epoch 10 ==>:   0%|          | 0/1078 [00:00<?, ?it/s]"
      ]
     },
     "metadata": {},
     "output_type": "display_data"
    },
    {
     "name": "stdout",
     "output_type": "stream",
     "text": [
      "Epoch #11\tTrain Loss: 0.094\tValid Loss: 0.101\n",
      "\n",
      "\n"
     ]
    },
    {
     "data": {
      "application/vnd.jupyter.widget-view+json": {
       "model_id": "af067766cbaf48f19ea7221978cbf7c5",
       "version_major": 2,
       "version_minor": 0
      },
      "text/plain": [
       "Train at Epoch 11 ==>:   0%|          | 0/1078 [00:00<?, ?it/s]"
      ]
     },
     "metadata": {},
     "output_type": "display_data"
    },
    {
     "name": "stdout",
     "output_type": "stream",
     "text": [
      "Epoch #12\tTrain Loss: 0.094\tValid Loss: 0.101\n",
      "\n",
      "\n"
     ]
    },
    {
     "data": {
      "application/vnd.jupyter.widget-view+json": {
       "model_id": "b1fb7b45893b4e80a64edde409bdd02c",
       "version_major": 2,
       "version_minor": 0
      },
      "text/plain": [
       "Train at Epoch 12 ==>:   0%|          | 0/1078 [00:00<?, ?it/s]"
      ]
     },
     "metadata": {},
     "output_type": "display_data"
    },
    {
     "name": "stdout",
     "output_type": "stream",
     "text": [
      "Epoch #13\tTrain Loss: 0.094\tValid Loss: 0.101\n",
      "\n",
      "\n"
     ]
    },
    {
     "data": {
      "application/vnd.jupyter.widget-view+json": {
       "model_id": "7247332f7ac54145a0c6f97adbb183ef",
       "version_major": 2,
       "version_minor": 0
      },
      "text/plain": [
       "Train at Epoch 13 ==>:   0%|          | 0/1078 [00:00<?, ?it/s]"
      ]
     },
     "metadata": {},
     "output_type": "display_data"
    },
    {
     "name": "stdout",
     "output_type": "stream",
     "text": [
      "Epoch #14\tTrain Loss: 0.094\tValid Loss: 0.101\n",
      "\n",
      "\n"
     ]
    },
    {
     "data": {
      "application/vnd.jupyter.widget-view+json": {
       "model_id": "ba42dcf6f5084223a817542280cbd5c4",
       "version_major": 2,
       "version_minor": 0
      },
      "text/plain": [
       "Train at Epoch 14 ==>:   0%|          | 0/1078 [00:00<?, ?it/s]"
      ]
     },
     "metadata": {},
     "output_type": "display_data"
    },
    {
     "name": "stdout",
     "output_type": "stream",
     "text": [
      "Epoch #15\tTrain Loss: 0.094\tValid Loss: 0.101\n",
      "\n",
      "\n"
     ]
    },
    {
     "data": {
      "application/vnd.jupyter.widget-view+json": {
       "model_id": "0f8748fc0d35487aa5e487bb74753c5f",
       "version_major": 2,
       "version_minor": 0
      },
      "text/plain": [
       "Train at Epoch 15 ==>:   0%|          | 0/1078 [00:00<?, ?it/s]"
      ]
     },
     "metadata": {},
     "output_type": "display_data"
    },
    {
     "name": "stdout",
     "output_type": "stream",
     "text": [
      "Epoch #16\tTrain Loss: 0.094\tValid Loss: 0.101\n",
      "\n",
      "\n"
     ]
    },
    {
     "data": {
      "application/vnd.jupyter.widget-view+json": {
       "model_id": "30d17078517145a1aa736dd2b086d7ed",
       "version_major": 2,
       "version_minor": 0
      },
      "text/plain": [
       "Train at Epoch 16 ==>:   0%|          | 0/1078 [00:00<?, ?it/s]"
      ]
     },
     "metadata": {},
     "output_type": "display_data"
    },
    {
     "name": "stdout",
     "output_type": "stream",
     "text": [
      "Epoch #17\tTrain Loss: 0.094\tValid Loss: 0.101\n",
      "\n",
      "\n"
     ]
    },
    {
     "data": {
      "application/vnd.jupyter.widget-view+json": {
       "model_id": "ad3f411b2f8744d1ba221f94613497ff",
       "version_major": 2,
       "version_minor": 0
      },
      "text/plain": [
       "Train at Epoch 17 ==>:   0%|          | 0/1078 [00:00<?, ?it/s]"
      ]
     },
     "metadata": {},
     "output_type": "display_data"
    },
    {
     "name": "stdout",
     "output_type": "stream",
     "text": [
      "Epoch #18\tTrain Loss: 0.094\tValid Loss: 0.101\n",
      "\n",
      "\n"
     ]
    },
    {
     "data": {
      "application/vnd.jupyter.widget-view+json": {
       "model_id": "ca6255f5a9d44b718b3b313a3b09c2c8",
       "version_major": 2,
       "version_minor": 0
      },
      "text/plain": [
       "Train at Epoch 18 ==>:   0%|          | 0/1078 [00:00<?, ?it/s]"
      ]
     },
     "metadata": {},
     "output_type": "display_data"
    },
    {
     "name": "stdout",
     "output_type": "stream",
     "text": [
      "Epoch #19\tTrain Loss: 0.094\tValid Loss: 0.100\n",
      "\n",
      "\n"
     ]
    },
    {
     "data": {
      "application/vnd.jupyter.widget-view+json": {
       "model_id": "e1c98e2769d84b059e00098a09df27c8",
       "version_major": 2,
       "version_minor": 0
      },
      "text/plain": [
       "Train at Epoch 19 ==>:   0%|          | 0/1078 [00:00<?, ?it/s]"
      ]
     },
     "metadata": {},
     "output_type": "display_data"
    },
    {
     "name": "stdout",
     "output_type": "stream",
     "text": [
      "Epoch #20\tTrain Loss: 0.094\tValid Loss: 0.100\n",
      "\n",
      "\n"
     ]
    }
   ],
   "source": [
    "model = DeepTransport(abla=True)\n",
    "model = model.cuda()\n",
    "criterion = torch.nn.MSELoss()\n",
    "optimizer = torch.optim.Adam(model.parameters(), lr=0.001)\n",
    "\n",
    "traindataset = MyDataSet(traindata, radius_upStreamGraph, radius_downStreamGraph, radius_Num, 40)\n",
    "train_dataloader = DataLoader(traindataset, batch_size=BATCH_SIZE, shuffle=True, num_workers=10)\n",
    "\n",
    "testdataset = MyDataSet(testdata, radius_upStreamGraph, radius_downStreamGraph, radius_Num, 40)\n",
    "test_dataloader = DataLoader(testdataset, batch_size=BATCH_SIZE, shuffle=True, num_workers=10)\n",
    "\n",
    "        \n",
    "train_all_losses = []\n",
    "valid_all_losses = []\n",
    "losses = []\n",
    "total_y_pred_train = []\n",
    "total_y_truth_train = []\n",
    "model.train()\n",
    "\n",
    "for epoch in range(EPOCHS):\n",
    "    ############################################### train\n",
    "    losses = []\n",
    "    model.train()\n",
    "    with tqdm(total=len(train_dataloader), leave=True, desc=f\"Train at Epoch {epoch} ==>\") as pbar:\n",
    "        for idx, ( pred, up, down, label ) in enumerate( train_dataloader ):\n",
    "            optimizer.zero_grad()\n",
    "            up, down, pred, label = up.float(), down.float(), pred.float(), label.unsqueeze(-1).float()\n",
    "            up, down, pred, label = up.cuda(), down.cuda(), pred.cuda(), label.cuda()\n",
    "            out = model(  up, down, pred )\n",
    "#         total_y_pred.append(y_pred.cpu().detach().numpy())\n",
    "#         total_y_truth.append(labels.cpu().detach().numpy())\n",
    "            loss = criterion(label, out)\n",
    "            loss.backward()\n",
    "            optimizer.step()\n",
    "            pbar.update(1)\n",
    "            pbar.set_postfix({'loss' : '{0:1.5f}'.format(loss.item())})\n",
    "            losses.append(loss.item())\n",
    "        epoch_loss = np.mean( losses )\n",
    "        train_all_losses.append(epoch_loss)\n",
    "        \n",
    "    ################################################ test\n",
    "    losses = []\n",
    "    model.eval()\n",
    "    with torch.no_grad():\n",
    "        for idx, ( pred, up, down, label ) in enumerate( test_dataloader ):\n",
    "            up, down, pred, label = up.float(), down.float(), pred.float(), label.unsqueeze(-1).float()\n",
    "            up, down, pred, label = up.cuda(), down.cuda(), pred.cuda(), label.cuda()\n",
    "            out = model(  up, down, pred )\n",
    "            loss = criterion(label, out)\n",
    "            losses.append(loss.item())\n",
    "        epoch_loss = np.mean( losses )\n",
    "        valid_all_losses.append(epoch_loss)\n",
    "        \n",
    "    mess = f\"Epoch #{epoch+1}\\tTrain Loss: {train_all_losses[-1]:.3f}\\tValid Loss: {valid_all_losses[-1]:.3f}\\n\\n\"\n",
    "    tqdm.write(mess)"
   ]
  },
  {
   "cell_type": "code",
   "execution_count": null,
   "id": "1cf893ea",
   "metadata": {
    "scrolled": true
   },
   "outputs": [
    {
     "data": {
      "application/vnd.jupyter.widget-view+json": {
       "model_id": "3c32b922507848a79217b7de180e5e8c",
       "version_major": 2,
       "version_minor": 0
      },
      "text/plain": [
       "Train at Epoch 0 ==>:   0%|          | 0/1078 [00:00<?, ?it/s]"
      ]
     },
     "metadata": {},
     "output_type": "display_data"
    },
    {
     "name": "stdout",
     "output_type": "stream",
     "text": [
      "Epoch #1\tTrain Loss: 0.113\tValid Loss: 0.101\n",
      "\n",
      "\n"
     ]
    },
    {
     "data": {
      "application/vnd.jupyter.widget-view+json": {
       "model_id": "c26f7c21637e4fdc8450f621f94325c5",
       "version_major": 2,
       "version_minor": 0
      },
      "text/plain": [
       "Train at Epoch 1 ==>:   0%|          | 0/1078 [00:00<?, ?it/s]"
      ]
     },
     "metadata": {},
     "output_type": "display_data"
    },
    {
     "name": "stdout",
     "output_type": "stream",
     "text": [
      "Epoch #2\tTrain Loss: 0.094\tValid Loss: 0.101\n",
      "\n",
      "\n"
     ]
    },
    {
     "data": {
      "application/vnd.jupyter.widget-view+json": {
       "model_id": "217c2d62d8d64b648d6f22e97ab58f81",
       "version_major": 2,
       "version_minor": 0
      },
      "text/plain": [
       "Train at Epoch 2 ==>:   0%|          | 0/1078 [00:00<?, ?it/s]"
      ]
     },
     "metadata": {},
     "output_type": "display_data"
    },
    {
     "name": "stdout",
     "output_type": "stream",
     "text": [
      "Epoch #3\tTrain Loss: 0.094\tValid Loss: 0.100\n",
      "\n",
      "\n"
     ]
    },
    {
     "data": {
      "application/vnd.jupyter.widget-view+json": {
       "model_id": "0302c3c7e1734feab5492e25506e8051",
       "version_major": 2,
       "version_minor": 0
      },
      "text/plain": [
       "Train at Epoch 3 ==>:   0%|          | 0/1078 [00:00<?, ?it/s]"
      ]
     },
     "metadata": {},
     "output_type": "display_data"
    },
    {
     "name": "stdout",
     "output_type": "stream",
     "text": [
      "Epoch #4\tTrain Loss: 0.093\tValid Loss: 0.099\n",
      "\n",
      "\n"
     ]
    },
    {
     "data": {
      "application/vnd.jupyter.widget-view+json": {
       "model_id": "9f94085883fb4b038350b9c096a841d7",
       "version_major": 2,
       "version_minor": 0
      },
      "text/plain": [
       "Train at Epoch 4 ==>:   0%|          | 0/1078 [00:00<?, ?it/s]"
      ]
     },
     "metadata": {},
     "output_type": "display_data"
    },
    {
     "name": "stdout",
     "output_type": "stream",
     "text": [
      "Epoch #5\tTrain Loss: 0.093\tValid Loss: 0.100\n",
      "\n",
      "\n"
     ]
    },
    {
     "data": {
      "application/vnd.jupyter.widget-view+json": {
       "model_id": "3f9c4ce56e7e47beba5b4b3e6be7237c",
       "version_major": 2,
       "version_minor": 0
      },
      "text/plain": [
       "Train at Epoch 5 ==>:   0%|          | 0/1078 [00:00<?, ?it/s]"
      ]
     },
     "metadata": {},
     "output_type": "display_data"
    },
    {
     "name": "stdout",
     "output_type": "stream",
     "text": [
      "Epoch #6\tTrain Loss: 0.093\tValid Loss: 0.099\n",
      "\n",
      "\n"
     ]
    },
    {
     "data": {
      "application/vnd.jupyter.widget-view+json": {
       "model_id": "c6522a0324844d48b257707e3a8dd477",
       "version_major": 2,
       "version_minor": 0
      },
      "text/plain": [
       "Train at Epoch 6 ==>:   0%|          | 0/1078 [00:00<?, ?it/s]"
      ]
     },
     "metadata": {},
     "output_type": "display_data"
    },
    {
     "name": "stdout",
     "output_type": "stream",
     "text": [
      "Epoch #7\tTrain Loss: 0.093\tValid Loss: 0.099\n",
      "\n",
      "\n"
     ]
    },
    {
     "data": {
      "application/vnd.jupyter.widget-view+json": {
       "model_id": "52b2864e47df461e9b4f35542d860a6c",
       "version_major": 2,
       "version_minor": 0
      },
      "text/plain": [
       "Train at Epoch 7 ==>:   0%|          | 0/1078 [00:00<?, ?it/s]"
      ]
     },
     "metadata": {},
     "output_type": "display_data"
    },
    {
     "name": "stdout",
     "output_type": "stream",
     "text": [
      "Epoch #8\tTrain Loss: 0.092\tValid Loss: 0.099\n",
      "\n",
      "\n"
     ]
    },
    {
     "data": {
      "application/vnd.jupyter.widget-view+json": {
       "model_id": "728cc38846c24d8c966b44149e42b580",
       "version_major": 2,
       "version_minor": 0
      },
      "text/plain": [
       "Train at Epoch 8 ==>:   0%|          | 0/1078 [00:00<?, ?it/s]"
      ]
     },
     "metadata": {},
     "output_type": "display_data"
    },
    {
     "name": "stdout",
     "output_type": "stream",
     "text": [
      "Epoch #9\tTrain Loss: 0.092\tValid Loss: 0.098\n",
      "\n",
      "\n"
     ]
    },
    {
     "data": {
      "application/vnd.jupyter.widget-view+json": {
       "model_id": "8ca654aa16d1492b8b8e649dd8a3821a",
       "version_major": 2,
       "version_minor": 0
      },
      "text/plain": [
       "Train at Epoch 9 ==>:   0%|          | 0/1078 [00:00<?, ?it/s]"
      ]
     },
     "metadata": {},
     "output_type": "display_data"
    },
    {
     "name": "stderr",
     "output_type": "stream",
     "text": [
      "IOPub message rate exceeded.\n",
      "The notebook server will temporarily stop sending output\n",
      "to the client in order to avoid crashing it.\n",
      "To change this limit, set the config variable\n",
      "`--NotebookApp.iopub_msg_rate_limit`.\n",
      "\n",
      "Current values:\n",
      "NotebookApp.iopub_msg_rate_limit=1000.0 (msgs/sec)\n",
      "NotebookApp.rate_limit_window=3.0 (secs)\n",
      "\n"
     ]
    },
    {
     "name": "stdout",
     "output_type": "stream",
     "text": [
      "Epoch #11\tTrain Loss: 0.092\tValid Loss: 0.098\n",
      "\n",
      "\n"
     ]
    },
    {
     "data": {
      "application/vnd.jupyter.widget-view+json": {
       "model_id": "02a912c93a1b4f49bf07cf0fb271cd25",
       "version_major": 2,
       "version_minor": 0
      },
      "text/plain": [
       "Train at Epoch 11 ==>:   0%|          | 0/1078 [00:00<?, ?it/s]"
      ]
     },
     "metadata": {},
     "output_type": "display_data"
    },
    {
     "name": "stderr",
     "output_type": "stream",
     "text": [
      "IOPub message rate exceeded.\n",
      "The notebook server will temporarily stop sending output\n",
      "to the client in order to avoid crashing it.\n",
      "To change this limit, set the config variable\n",
      "`--NotebookApp.iopub_msg_rate_limit`.\n",
      "\n",
      "Current values:\n",
      "NotebookApp.iopub_msg_rate_limit=1000.0 (msgs/sec)\n",
      "NotebookApp.rate_limit_window=3.0 (secs)\n",
      "\n"
     ]
    },
    {
     "name": "stdout",
     "output_type": "stream",
     "text": [
      "Epoch #14\tTrain Loss: 0.092\tValid Loss: 0.098\n",
      "\n",
      "\n"
     ]
    },
    {
     "data": {
      "application/vnd.jupyter.widget-view+json": {
       "model_id": "a54b9e53995d4814a53e871ae935afeb",
       "version_major": 2,
       "version_minor": 0
      },
      "text/plain": [
       "Train at Epoch 14 ==>:   0%|          | 0/1078 [00:00<?, ?it/s]"
      ]
     },
     "metadata": {},
     "output_type": "display_data"
    },
    {
     "name": "stderr",
     "output_type": "stream",
     "text": [
      "IOPub message rate exceeded.\n",
      "The notebook server will temporarily stop sending output\n",
      "to the client in order to avoid crashing it.\n",
      "To change this limit, set the config variable\n",
      "`--NotebookApp.iopub_msg_rate_limit`.\n",
      "\n",
      "Current values:\n",
      "NotebookApp.iopub_msg_rate_limit=1000.0 (msgs/sec)\n",
      "NotebookApp.rate_limit_window=3.0 (secs)\n",
      "\n"
     ]
    },
    {
     "name": "stdout",
     "output_type": "stream",
     "text": [
      "Epoch #17\tTrain Loss: 0.091\tValid Loss: 0.097\n",
      "\n",
      "\n"
     ]
    },
    {
     "data": {
      "application/vnd.jupyter.widget-view+json": {
       "model_id": "66e9a6b74db449d3a6db2a4f6371cf67",
       "version_major": 2,
       "version_minor": 0
      },
      "text/plain": [
       "Train at Epoch 17 ==>:   0%|          | 0/1078 [00:00<?, ?it/s]"
      ]
     },
     "metadata": {},
     "output_type": "display_data"
    },
    {
     "name": "stderr",
     "output_type": "stream",
     "text": [
      "IOPub message rate exceeded.\n",
      "The notebook server will temporarily stop sending output\n",
      "to the client in order to avoid crashing it.\n",
      "To change this limit, set the config variable\n",
      "`--NotebookApp.iopub_msg_rate_limit`.\n",
      "\n",
      "Current values:\n",
      "NotebookApp.iopub_msg_rate_limit=1000.0 (msgs/sec)\n",
      "NotebookApp.rate_limit_window=3.0 (secs)\n",
      "\n"
     ]
    }
   ],
   "source": [
    "model = DeepTransport()\n",
    "model = model.cuda()\n",
    "criterion = torch.nn.MSELoss()\n",
    "optimizer = torch.optim.Adam(model.parameters(), lr=0.001)\n",
    "\n",
    "traindataset = MyDataSet(traindata, radius_upStreamGraph, radius_downStreamGraph, radius_Num, 40)\n",
    "train_dataloader = DataLoader(traindataset, batch_size=BATCH_SIZE, shuffle=True, num_workers=10)\n",
    "\n",
    "testdataset = MyDataSet(testdata, radius_upStreamGraph, radius_downStreamGraph, radius_Num, 40)\n",
    "test_dataloader = DataLoader(testdataset, batch_size=BATCH_SIZE, shuffle=True, num_workers=10)\n",
    "\n",
    "        \n",
    "train_all_losses = []\n",
    "valid_all_losses = []\n",
    "losses = []\n",
    "total_y_pred_train = []\n",
    "total_y_truth_train = []\n",
    "model.train()\n",
    "\n",
    "for epoch in range(EPOCHS):\n",
    "    ############################################### train\n",
    "    losses = []\n",
    "    model.train()\n",
    "    with tqdm(total=len(train_dataloader), leave=True, desc=f\"Train at Epoch {epoch} ==>\") as pbar:\n",
    "        for idx, ( pred, up, down, label ) in enumerate( train_dataloader ):\n",
    "            optimizer.zero_grad()\n",
    "            up, down, pred, label = up.float(), down.float(), pred.float(), label.unsqueeze(-1).float()\n",
    "            up, down, pred, label = up.cuda(), down.cuda(), pred.cuda(), label.cuda()\n",
    "            out = model(  up, down, pred )\n",
    "#         total_y_pred.append(y_pred.cpu().detach().numpy())\n",
    "#         total_y_truth.append(labels.cpu().detach().numpy())\n",
    "            loss = criterion(label, out)\n",
    "            loss.backward()\n",
    "            optimizer.step()\n",
    "            pbar.update(1)\n",
    "            pbar.set_postfix({'loss' : '{0:1.5f}'.format(loss.item())})\n",
    "            losses.append(loss.item())\n",
    "        epoch_loss = np.mean( losses )\n",
    "        train_all_losses.append(epoch_loss)\n",
    "        \n",
    "    ################################################ test\n",
    "    losses = []\n",
    "    model.eval()\n",
    "    with torch.no_grad():\n",
    "        for idx, ( pred, up, down, label ) in enumerate( test_dataloader ):\n",
    "            up, down, pred, label = up.float(), down.float(), pred.float(), label.unsqueeze(-1).float()\n",
    "            up, down, pred, label = up.cuda(), down.cuda(), pred.cuda(), label.cuda()\n",
    "            out = model(  up, down, pred )\n",
    "            loss = criterion(label, out)\n",
    "            losses.append(loss.item())\n",
    "        epoch_loss = np.mean( losses )\n",
    "        valid_all_losses.append(epoch_loss)\n",
    "        \n",
    "    mess = f\"Epoch #{epoch+1}\\tTrain Loss: {train_all_losses[-1]:.3f}\\tValid Loss: {valid_all_losses[-1]:.3f}\\n\\n\"\n",
    "    tqdm.write(mess)"
   ]
  },
  {
   "cell_type": "code",
   "execution_count": null,
   "id": "f3c3c6be",
   "metadata": {},
   "outputs": [],
   "source": [
    "out"
   ]
  },
  {
   "cell_type": "code",
   "execution_count": null,
   "id": "96f2a268",
   "metadata": {},
   "outputs": [],
   "source": [
    "label"
   ]
  },
  {
   "cell_type": "code",
   "execution_count": null,
   "id": "40f6aa89",
   "metadata": {},
   "outputs": [],
   "source": []
  }
 ],
 "metadata": {
  "kernelspec": {
   "display_name": "Python [conda env:torch17] *",
   "language": "python",
   "name": "conda-env-torch17-py"
  },
  "language_info": {
   "codemirror_mode": {
    "name": "ipython",
    "version": 3
   },
   "file_extension": ".py",
   "mimetype": "text/x-python",
   "name": "python",
   "nbconvert_exporter": "python",
   "pygments_lexer": "ipython3",
   "version": "3.7.9"
  },
  "toc": {
   "base_numbering": 1,
   "nav_menu": {},
   "number_sections": true,
   "sideBar": true,
   "skip_h1_title": false,
   "title_cell": "Table of Contents",
   "title_sidebar": "Contents",
   "toc_cell": false,
   "toc_position": {},
   "toc_section_display": true,
   "toc_window_display": true
  }
 },
 "nbformat": 4,
 "nbformat_minor": 5
}
